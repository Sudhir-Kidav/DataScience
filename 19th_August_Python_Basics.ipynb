{
 "cells": [
  {
   "cell_type": "code",
   "execution_count": 2,
   "id": "5b307ad0-a44a-4ff7-a2b7-afeb1f6b3d82",
   "metadata": {},
   "outputs": [
    {
     "name": "stdout",
     "output_type": "stream",
     "text": [
      "3\n",
      "2\n"
     ]
    }
   ],
   "source": [
    "'''Declare two variables, `x` and `y`, and assign them integer values. Swap the\n",
    "values of these variables without using any temporary variable.'''\n",
    "x = 2 # assigned int value to the variable\n",
    "y = 3 # assigned int value to the variable\n",
    "x = x + y # passing the total of the variables to x ie: x = x + y\n",
    "y = x - y # getting the initial value of x to y by deducting y from the total ie: y = x - y\n",
    "x = x - y # getting the new x value by deducting y from the total ie: x = x - y\n",
    "# now the variables values has been swapped. Now we can change the values of x & y to check the code.\n",
    "print(x)\n",
    "print(y)"
   ]
  },
  {
   "cell_type": "code",
   "execution_count": 3,
   "id": "09423361-1961-4b2b-a34c-665583ba1ac3",
   "metadata": {},
   "outputs": [
    {
     "name": "stdin",
     "output_type": "stream",
     "text": [
      "Enter the Width of the rectangle 4\n",
      "Enter the Length of the rectangle 6\n"
     ]
    },
    {
     "name": "stdout",
     "output_type": "stream",
     "text": [
      "Area of rectangle is :  24\n"
     ]
    }
   ],
   "source": [
    "\"\"\"Create a program that calculates the area of a rectangle. Take the length and\n",
    "width as inputs from the user and store them in variables. Calculate and\n",
    "display the area.\"\"\"\n",
    "w = int(input(\"Enter the Width of the rectangle\")) # taking input from user for width of the rectangle and passing the value to w\n",
    "l = int(input(\"Enter the Length of the rectangle\")) # taking input from user for length of the rectangleand passing the value to l\n",
    "a = w * l # Area of rectangle is a = w * l\n",
    "print(\"Area of rectangle is : \", a) # printing the value of the rectangle"
   ]
  },
  {
   "cell_type": "code",
   "execution_count": 1,
   "id": "bf353814-0749-428a-adf4-e70b5ece1272",
   "metadata": {},
   "outputs": [
    {
     "name": "stdin",
     "output_type": "stream",
     "text": [
      "Enter the temprature in Celcius 28\n"
     ]
    },
    {
     "name": "stdout",
     "output_type": "stream",
     "text": [
      "The temprature in Fahrenheit is :  82.4\n"
     ]
    }
   ],
   "source": [
    "'''Write a Python program that converts temperatures from Celsius to\n",
    "Fahrenheit. Take the temperature in Celsius as input, store it in a variable,\n",
    "convert it to Fahrenheit, and display the result.'''\n",
    "c = float(input(\"Enter the temprature in Celcius\")) # getting the temprature input in Celcius from the user and passing to float variable c\n",
    "f = (c * (9 / 5)) + 32 # converting the Celcius to Fahrenheit using the formula and passing to f variable\n",
    "print(\"The temprature in Fahrenheit is : \", f ) # printing the value in Fahrenheit\n",
    "     "
   ]
  },
  {
   "cell_type": "code",
   "execution_count": 4,
   "id": "21a1fbc9-bdc8-4a57-8faf-b87b53244160",
   "metadata": {},
   "outputs": [
    {
     "name": "stdin",
     "output_type": "stream",
     "text": [
      "Enter a String :  Sudhir\n"
     ]
    },
    {
     "name": "stdout",
     "output_type": "stream",
     "text": [
      "Length of the string is :  6\n"
     ]
    }
   ],
   "source": [
    "'''Write a Python program that takes a string as input and prints the length of\n",
    "the string.'''\n",
    "str1 = input(\"Enter a String : \") # taking String input from user and storing in variable str1\n",
    "print(\"Length of the string is : \", len(str1)) # printing the length of the string"
   ]
  },
  {
   "cell_type": "code",
   "execution_count": 16,
   "id": "4802281a-54b2-4a17-9c62-b7d706232091",
   "metadata": {},
   "outputs": [
    {
     "name": "stdin",
     "output_type": "stream",
     "text": [
      "Enter a String :  Last of the first\n"
     ]
    },
    {
     "name": "stdout",
     "output_type": "stream",
     "text": [
      "Number of vowels in string is :  4\n"
     ]
    }
   ],
   "source": [
    "'''Create a program that takes a sentence from the user and counts the number\n",
    "of vowels (a, e, i, o, u) in the string.'''\n",
    "str2 = input(\"Enter a String : \") # taking String input from user and storing in variable str2\n",
    "c1 = sente.count('a') # checking the presence of letter 'a'\n",
    "c1 = c1 + str2.count('e') # checking the presence of letter 'e' and adding the count to c1\n",
    "c1 = c1 + str2.count('i') # checking the presence of letter 'i' and adding the count to c1\n",
    "c1 = c1 + str2.count('o') # checking the presence of letter 'o' and adding the count to c1\n",
    "c1 = c1 + str2.count('u') # checking the presence of letter 'u' and adding the count to c1\n",
    "print(\"Number of vowels in string is : \", c1) # printing the total number of vowel in the string."
   ]
  },
  {
   "cell_type": "code",
   "execution_count": 30,
   "id": "224983b7-6ac8-451e-a9a7-e4c58c22d3cc",
   "metadata": {},
   "outputs": [
    {
     "name": "stdout",
     "output_type": "stream",
     "text": [
      "Reversing the string :  thgiR\n"
     ]
    }
   ],
   "source": [
    "'''Given a string, reverse the order of characters using string slicing and print\n",
    "the reversed string.'''\n",
    "str3 = \"Right\" # storing the string in variable str3\n",
    "print(\"Reversing the string : \", str3[::-1]) # printing the reveresed output"
   ]
  },
  {
   "cell_type": "code",
   "execution_count": 46,
   "id": "fcb9e5d8-e32b-4961-807a-f83de2e3bf56",
   "metadata": {},
   "outputs": [
    {
     "name": "stdin",
     "output_type": "stream",
     "text": [
      "Enter a word :  malayalam\n"
     ]
    },
    {
     "name": "stdout",
     "output_type": "stream",
     "text": [
      "String is a palindrome\n"
     ]
    }
   ],
   "source": [
    "'''Write a program that takes a string as input and checks if it is a palindrome\n",
    "(reads the same forwards and backwards).'''\n",
    "str4 = input(\"Enter a word : \") # taking string input from the user and storing in variable str4\n",
    "rev1 = str4[::-1]  # reversing the str4 and storing in rev1\n",
    "if str4 == rev1 :    # if str4 is equal to rev1 then string is a palindrome else not.\n",
    "    print(\"String is a palindrome\")  # printing the output if condition is true\n",
    "else: \n",
    "    print(\"String is not a palindrome\") # printing the output if condition is false"
   ]
  },
  {
   "cell_type": "code",
   "execution_count": 56,
   "id": "724e6442-98ba-40b6-842a-9a9854ea257f",
   "metadata": {},
   "outputs": [
    {
     "name": "stdin",
     "output_type": "stream",
     "text": [
      "Enter a string: S  u d     h    i r\n"
     ]
    },
    {
     "name": "stdout",
     "output_type": "stream",
     "text": [
      "Output with spaces removed : Sudhir\n"
     ]
    }
   ],
   "source": [
    "'''Create a program that takes a string as input and removes all the spaces from\n",
    "it. Print the modified string without spaces.'''\n",
    "str5 = input(\"Enter a string:\") # taking string input from the user\n",
    "print(\"Output with spaces removed :\", str5.replace(' ','')) # output the string without spaces using the replace metho"
   ]
  },
  {
   "cell_type": "code",
   "execution_count": null,
   "id": "20f792f0-2c1f-4063-9718-83c4e8732d85",
   "metadata": {},
   "outputs": [],
   "source": []
  }
 ],
 "metadata": {
  "kernelspec": {
   "display_name": "Python 3 (ipykernel)",
   "language": "python",
   "name": "python3"
  },
  "language_info": {
   "codemirror_mode": {
    "name": "ipython",
    "version": 3
   },
   "file_extension": ".py",
   "mimetype": "text/x-python",
   "name": "python",
   "nbconvert_exporter": "python",
   "pygments_lexer": "ipython3",
   "version": "3.10.8"
  }
 },
 "nbformat": 4,
 "nbformat_minor": 5
}
